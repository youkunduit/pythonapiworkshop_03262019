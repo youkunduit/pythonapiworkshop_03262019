{
 "cells": [
  {
   "cell_type": "markdown",
   "metadata": {},
   "source": [
    "# Find Spatial Locations\n",
    "## Buffer a point, return all data within spatial geometry of buffer\n",
    "\n",
    "In the following example, we will buffer a point on the map and return all features within the buffer.\n",
    "\n",
    "-----\n",
    "\n",
    "**Directions:** Begin by importing all the necessary libraries.\n",
    "\n",
    "**Note:** You do not need to import <code>getpass</code> to provide password securely to ArcGIS. If you connect with just the GIS portal URL and your username, you will be prompted to input your password automatically.\n",
    "* <code>features</code> module from <code>arcgis</code> is used for working with feature data, feature layers and collections of feature layers in the GIS. It also contains the spatial analysis functions which operate against feature data.\n",
    "* <code>geometry</code> module from <code>arcgis</code> provides functions which use geometric types as input and output as well as functions for easily converting geometries between different representations.\n",
    "\n",
    "For more information, view the documentation: [https://developers.arcgis.com/python/guide/overview-of-the-arcgis-api-for-python/](\"https://developers.arcgis.com/python/guide/overview-of-the-arcgis-api-for-python/\") ."
   ]
  },
  {
   "cell_type": "code",
   "execution_count": 1,
   "metadata": {},
   "outputs": [],
   "source": [
    "# import libraries\n",
    "import getpass\n",
    "from arcgis.gis import *\n",
    "from arcgis import geometry\n",
    "from arcgis import features"
   ]
  },
  {
   "cell_type": "code",
   "execution_count": 2,
   "metadata": {},
   "outputs": [
    {
     "name": "stdout",
     "output_type": "stream",
     "text": [
      "········\n"
     ]
    }
   ],
   "source": [
    "# Utilize getpass for password management in Jupyter notebooks\n",
    "password = getpass.getpass()"
   ]
  },
  {
   "cell_type": "code",
   "execution_count": 3,
   "metadata": {},
   "outputs": [
    {
     "data": {
      "text/html": [
       "GIS @ <a href=\"http://localgovne.maps.arcgis.com\">http://localgovne.maps.arcgis.com</a>"
      ],
      "text/plain": [
       "GIS @ http://localgovne.maps.arcgis.com version:7.1"
      ]
     },
     "execution_count": 3,
     "metadata": {},
     "output_type": "execute_result"
    }
   ],
   "source": [
    "# Connect to GIS\n",
    "gis = GIS('http://www.arcgis.com', 'alex.brown.localgovne', password)\n",
    "# gis = GIS('https://neenterprise.esri.com/portal', 'abrown', password)\n",
    "gis"
   ]
  },
  {
   "cell_type": "markdown",
   "metadata": {},
   "source": [
    "**Directions:** Manually create a point in the [NAD83 / New York Long Island (ftUS)](\"https://epsg.io/2263\") coordinate system, and convert the feature into a feature set (i.e., in memory) for using in geoprocessing tools."
   ]
  },
  {
   "cell_type": "code",
   "execution_count": 16,
   "metadata": {},
   "outputs": [
    {
     "name": "stdout",
     "output_type": "stream",
     "text": [
      "{'x': 987281.588, 'y': 213669.358, 'spatialReference': {'wkid': 2263}}\n",
      "{'x': 987281.588, 'y': 213669.358, 'spatialReference': {'wkid': 102718, 'latestWkid': 2263}}\n",
      "{\"geometry\": {\"x\": 987281.588, \"y\": 213669.358, \"spatialReference\": {\"wkid\": 102718, \"latestWkid\": 2263}}, \"attributes\": {\"OBJECTID\": 1, \"name\": \"Test_point\", \"type\": \"Feature\"}}\n",
      "{\"features\": [{\"geometry\": {\"x\": 987281.588, \"y\": 213669.358, \"spatialReference\": {\"wkid\": 102718, \"latestWkid\": 2263}}, \"attributes\": {\"OBJECTID\": 1, \"name\": \"Test_point\", \"type\": \"Feature\"}}], \"objectIdFieldName\": \"OBJECTID\", \"spatialReference\": {\"wkid\": 102718, \"latestWkid\": 2263}, \"geometryType\": \"esriGeometryPoint\", \"fields\": [{\"name\": \"OBJECTID\", \"alias\": \"OBJECTID\", \"type\": \"esriFieldTypeOID\", \"sqlType\": \"sqlTypeOther\"}, {\"name\": \"name\", \"alias\": \"name\", \"type\": \"esriFieldTypeString\", \"sqlType\": \"sqlTypeOther\"}, {\"name\": \"type\", \"alias\": \"type\", \"type\": \"esriFieldTypeString\", \"sqlType\": \"sqlTypeOther\"}]}\n"
     ]
    }
   ],
   "source": [
    "# Manually create a point utilizing either decimal degrees or a projected coordinate \n",
    "# system (NAD_1983_StatePlane_New_York_Long_Island_FIPS_3104_Feet)\n",
    "# To properly buffer the boundary, need to pass in State Plane coordinates\n",
    "\n",
    "# pt_coords = features.feature.Point({\"x\" : -73.989058, \"y\" : 40.753149, \"spatialReference\" : {\"wkid\" : 4326}})\n",
    "pt_coords = features.feature.Point({\"x\" : 987281.588, \"y\" : 213669.358, \"spatialReference\" : {\"wkid\" : 2263}})\n",
    "print(pt_coords)\n",
    "\n",
    "pt = geometry.Point(pt_coords)\n",
    "print(pt)\n",
    "feat = features.Feature(geometry=pt, attributes={'OBJECTID': 1,\n",
    "                                                        'name': 'Test_point',\n",
    "                                                        'type': 'Feature'})\n",
    "print(feat)\n",
    "\n",
    "# Convert the feature into a feature set to utilize in geoprocessing tools\n",
    "fset = features.FeatureSet([feat])\n",
    "fset\n",
    "print(fset)"
   ]
  },
  {
   "cell_type": "markdown",
   "metadata": {},
   "source": [
    "**Directions:** Search for a feature service containing 311 data. The variable <code>incidents_service</code> returns the first indexed search result. <code>incident_layers[0]</code> returns the first indexed layer from the feature service. Finally, add the result to a map."
   ]
  },
  {
   "cell_type": "code",
   "execution_count": 17,
   "metadata": {},
   "outputs": [],
   "source": [
    "# Search for NYC 311 Data, put query directly in search\n",
    "crime_s = gis.content.search(\"title:311_Service_Requests_(Jan_2019_to_Present)\", item_type=\"Feature Service\")\n",
    "incidents_service = crime_s[0]\n",
    "\n",
    "incident_layers = incidents_service.layers\n",
    "incidents = incident_layers[0]"
   ]
  },
  {
   "cell_type": "code",
   "execution_count": 18,
   "metadata": {},
   "outputs": [
    {
     "data": {
      "application/vnd.jupyter.widget-view+json": {
       "model_id": "1209a8781e19485f971de1967cc0c7b5",
       "version_major": 2,
       "version_minor": 0
      },
      "text/plain": [
       "MapView(layout=Layout(height='400px', width='100%'))"
      ]
     },
     "metadata": {},
     "output_type": "display_data"
    },
    {
     "data": {
      "text/html": [
       "<div class=\"map-static-img-preview-931ab71a-cb38-4b21-966d-81fd13c59ec8\"><img src=\"\"></img></div>"
      ],
      "text/plain": [
       "<IPython.core.display.HTML object>"
      ]
     },
     "metadata": {},
     "output_type": "display_data"
    }
   ],
   "source": [
    "# Create a map object, add layers then visualize\n",
    "\n",
    "map_1 = gis.map(\"New York, NY\")\n",
    "map_1.add_layer(incidents)\n",
    "map_1.add_layer(fset)\n",
    "map_1"
   ]
  },
  {
   "cell_type": "markdown",
   "metadata": {},
   "source": [
    "**Directions:** Create a 500 foot buffer around the previously designated point feature set, using keeping the results in memory. Add the buffer to a map.\n",
    "\n",
    "**Note:** Designating an output name would save the results."
   ]
  },
  {
   "cell_type": "code",
   "execution_count": 19,
   "metadata": {},
   "outputs": [],
   "source": [
    "# Buffer the point using projected coordinate system(NAD 1983 StatePlane New York Long Island US Feet)\n",
    "# Do not save to permanent layer\n",
    "point_buff = features.use_proximity.create_buffers(fset.to_dict(), distances=[500], units = 'Feet', \n",
    "                                                   context={\"wkid\" : 2263})\n",
    "# This option would save the output\n",
    "#point_buff = features.use_proximity.create_buffers(fset.to_dict(), distances=[500], units = 'Feet', \n",
    "#                                                   output_name='Buffer_output', context={\"wkid\" : 2263})\n",
    "\n",
    "map_1.add_layer(point_buff)"
   ]
  },
  {
   "cell_type": "markdown",
   "metadata": {},
   "source": [
    "**Directions:** Run the [Summarize Within](\"https://esri.github.io/arcgis-python-api/apidoc/html/arcgis.features.analysis.html?highlight=summarize%20within#arcgis.features.analysis.summarize_within\") tool to identify the number of 311 calls within the buffered area. \n",
    "\n",
    "Since <code>output_name</code> in the below code is None, the results are outputed as a dictionary. "
   ]
  },
  {
   "cell_type": "code",
   "execution_count": 60,
   "metadata": {},
   "outputs": [],
   "source": [
    "# Run summarize within tool to look at how many points fall within the boundary.\n",
    "output = features.analysis.summarize_within(sum_within_layer=point_buff, summary_layer=incidents, sum_shape=True, \n",
    "                                   summary_fields=[], group_by_field='text_gener', minority_majority=False, \n",
    "                                   percent_shape=False, output_name=None, context={\"wkid\" : 2263}, gis=None)"
   ]
  },
  {
   "cell_type": "code",
   "execution_count": 61,
   "metadata": {},
   "outputs": [
    {
     "name": "stdout",
     "output_type": "stream",
     "text": [
      "{'result_layer': <FeatureCollection>, 'group_by_summary': <FeatureCollection>}\n",
      "<class 'dict'>\n"
     ]
    }
   ],
   "source": [
    "# The output of the summarize within did not specifify an output_name, the result is a dictionary.  Grab the dictionary keys\n",
    "# to separate both the total numbers and grouped values.\n",
    "print(output)\n",
    "print(type(output))\n",
    "\n",
    "# Return just FeatureCollection\n",
    "final = output.get('result_layer')\n",
    "related = output.get('group_by_summary')"
   ]
  },
  {
   "cell_type": "code",
   "execution_count": 62,
   "metadata": {},
   "outputs": [
    {
     "data": {
      "text/plain": [
       "<FeatureSet> 1 features"
      ]
     },
     "execution_count": 62,
     "metadata": {},
     "output_type": "execute_result"
    }
   ],
   "source": [
    "# FeatureCollections are different than FeatureLayerCollections; unless one saves the layer using output_name\n",
    "# a where clause cannot be utilized.\n",
    "finallayers = final.query()\n",
    "finallayers"
   ]
  },
  {
   "cell_type": "code",
   "execution_count": 63,
   "metadata": {},
   "outputs": [
    {
     "data": {
      "text/html": [
       "<div>\n",
       "<style scoped>\n",
       "    .dataframe tbody tr th:only-of-type {\n",
       "        vertical-align: middle;\n",
       "    }\n",
       "\n",
       "    .dataframe tbody tr th {\n",
       "        vertical-align: top;\n",
       "    }\n",
       "\n",
       "    .dataframe thead th {\n",
       "        text-align: right;\n",
       "    }\n",
       "</style>\n",
       "<table border=\"1\" class=\"dataframe\">\n",
       "  <thead>\n",
       "    <tr style=\"text-align: right;\">\n",
       "      <th></th>\n",
       "      <th>AnalysisArea</th>\n",
       "      <th>BUFF_DIST</th>\n",
       "      <th>Join_ID</th>\n",
       "      <th>OBJECTID</th>\n",
       "      <th>ORIG_FID</th>\n",
       "      <th>Point_Count</th>\n",
       "      <th>SHAPE</th>\n",
       "      <th>name</th>\n",
       "      <th>type</th>\n",
       "    </tr>\n",
       "  </thead>\n",
       "  <tbody>\n",
       "    <tr>\n",
       "      <th>0</th>\n",
       "      <td>0.072905</td>\n",
       "      <td>500</td>\n",
       "      <td>1</td>\n",
       "      <td>1</td>\n",
       "      <td>1</td>\n",
       "      <td>217</td>\n",
       "      <td>{\"rings\": [[[-75.12734031650234, 39.9826679230...</td>\n",
       "      <td>Test_point</td>\n",
       "      <td>Feature</td>\n",
       "    </tr>\n",
       "  </tbody>\n",
       "</table>\n",
       "</div>"
      ],
      "text/plain": [
       "   AnalysisArea  BUFF_DIST  Join_ID  OBJECTID  ORIG_FID  Point_Count  \\\n",
       "0      0.072905        500        1         1         1          217   \n",
       "\n",
       "                                               SHAPE        name     type  \n",
       "0  {\"rings\": [[[-75.12734031650234, 39.9826679230...  Test_point  Feature  "
      ]
     },
     "execution_count": 63,
     "metadata": {},
     "output_type": "execute_result"
    }
   ],
   "source": [
    "# Show query results in data table\n",
    "finallayers.sdf"
   ]
  },
  {
   "cell_type": "code",
   "execution_count": 64,
   "metadata": {},
   "outputs": [
    {
     "data": {
      "text/plain": [
       "<FeatureSet> 23 features"
      ]
     },
     "execution_count": 64,
     "metadata": {},
     "output_type": "execute_result"
    }
   ],
   "source": [
    "# FeatureCollections are different than FeatureLayerCollections; unless one saves the layer using output_name\n",
    "# a where clause cannot be utilized.\n",
    "relatedlayers = related.query()\n",
    "relatedlayers"
   ]
  },
  {
   "cell_type": "code",
   "execution_count": 65,
   "metadata": {},
   "outputs": [
    {
     "data": {
      "text/html": [
       "<div>\n",
       "<style scoped>\n",
       "    .dataframe tbody tr th:only-of-type {\n",
       "        vertical-align: middle;\n",
       "    }\n",
       "\n",
       "    .dataframe tbody tr th {\n",
       "        vertical-align: top;\n",
       "    }\n",
       "\n",
       "    .dataframe thead th {\n",
       "        text-align: right;\n",
       "    }\n",
       "</style>\n",
       "<table border=\"1\" class=\"dataframe\">\n",
       "  <thead>\n",
       "    <tr style=\"text-align: right;\">\n",
       "      <th></th>\n",
       "      <th>Join_ID</th>\n",
       "      <th>OBJECTID</th>\n",
       "      <th>Point_Count</th>\n",
       "      <th>objectid_1</th>\n",
       "      <th>text_gener</th>\n",
       "    </tr>\n",
       "  </thead>\n",
       "  <tbody>\n",
       "    <tr>\n",
       "      <th>0</th>\n",
       "      <td>1</td>\n",
       "      <td>1</td>\n",
       "      <td>2</td>\n",
       "      <td>1</td>\n",
       "      <td>Aggravated Assault Firearm</td>\n",
       "    </tr>\n",
       "    <tr>\n",
       "      <th>1</th>\n",
       "      <td>1</td>\n",
       "      <td>2</td>\n",
       "      <td>6</td>\n",
       "      <td>2</td>\n",
       "      <td>Aggravated Assault No Firearm</td>\n",
       "    </tr>\n",
       "    <tr>\n",
       "      <th>2</th>\n",
       "      <td>1</td>\n",
       "      <td>3</td>\n",
       "      <td>42</td>\n",
       "      <td>3</td>\n",
       "      <td>All Other Offenses</td>\n",
       "    </tr>\n",
       "    <tr>\n",
       "      <th>3</th>\n",
       "      <td>1</td>\n",
       "      <td>4</td>\n",
       "      <td>1</td>\n",
       "      <td>4</td>\n",
       "      <td>Arson</td>\n",
       "    </tr>\n",
       "    <tr>\n",
       "      <th>4</th>\n",
       "      <td>1</td>\n",
       "      <td>5</td>\n",
       "      <td>3</td>\n",
       "      <td>5</td>\n",
       "      <td>Burglary Non-Residential</td>\n",
       "    </tr>\n",
       "    <tr>\n",
       "      <th>5</th>\n",
       "      <td>1</td>\n",
       "      <td>6</td>\n",
       "      <td>15</td>\n",
       "      <td>6</td>\n",
       "      <td>Burglary Residential</td>\n",
       "    </tr>\n",
       "    <tr>\n",
       "      <th>6</th>\n",
       "      <td>1</td>\n",
       "      <td>7</td>\n",
       "      <td>5</td>\n",
       "      <td>7</td>\n",
       "      <td>Disorderly Conduct</td>\n",
       "    </tr>\n",
       "    <tr>\n",
       "      <th>7</th>\n",
       "      <td>1</td>\n",
       "      <td>8</td>\n",
       "      <td>10</td>\n",
       "      <td>8</td>\n",
       "      <td>DRIVING UNDER THE INFLUENCE</td>\n",
       "    </tr>\n",
       "    <tr>\n",
       "      <th>8</th>\n",
       "      <td>1</td>\n",
       "      <td>9</td>\n",
       "      <td>2</td>\n",
       "      <td>9</td>\n",
       "      <td>Forgery and Counterfeiting</td>\n",
       "    </tr>\n",
       "    <tr>\n",
       "      <th>9</th>\n",
       "      <td>1</td>\n",
       "      <td>10</td>\n",
       "      <td>10</td>\n",
       "      <td>10</td>\n",
       "      <td>Fraud</td>\n",
       "    </tr>\n",
       "    <tr>\n",
       "      <th>10</th>\n",
       "      <td>1</td>\n",
       "      <td>11</td>\n",
       "      <td>5</td>\n",
       "      <td>11</td>\n",
       "      <td>Motor Vehicle Theft</td>\n",
       "    </tr>\n",
       "    <tr>\n",
       "      <th>11</th>\n",
       "      <td>1</td>\n",
       "      <td>12</td>\n",
       "      <td>3</td>\n",
       "      <td>12</td>\n",
       "      <td>Narcotic / Drug Law Violations</td>\n",
       "    </tr>\n",
       "    <tr>\n",
       "      <th>12</th>\n",
       "      <td>1</td>\n",
       "      <td>13</td>\n",
       "      <td>22</td>\n",
       "      <td>13</td>\n",
       "      <td>Other Assaults</td>\n",
       "    </tr>\n",
       "    <tr>\n",
       "      <th>13</th>\n",
       "      <td>1</td>\n",
       "      <td>14</td>\n",
       "      <td>3</td>\n",
       "      <td>14</td>\n",
       "      <td>Other Sex Offenses (Not Commercialized)</td>\n",
       "    </tr>\n",
       "    <tr>\n",
       "      <th>14</th>\n",
       "      <td>1</td>\n",
       "      <td>15</td>\n",
       "      <td>1</td>\n",
       "      <td>15</td>\n",
       "      <td>Rape</td>\n",
       "    </tr>\n",
       "    <tr>\n",
       "      <th>15</th>\n",
       "      <td>1</td>\n",
       "      <td>16</td>\n",
       "      <td>14</td>\n",
       "      <td>16</td>\n",
       "      <td>Recovered Stolen Motor Vehicle</td>\n",
       "    </tr>\n",
       "    <tr>\n",
       "      <th>16</th>\n",
       "      <td>1</td>\n",
       "      <td>17</td>\n",
       "      <td>5</td>\n",
       "      <td>17</td>\n",
       "      <td>Robbery Firearm</td>\n",
       "    </tr>\n",
       "    <tr>\n",
       "      <th>17</th>\n",
       "      <td>1</td>\n",
       "      <td>18</td>\n",
       "      <td>4</td>\n",
       "      <td>18</td>\n",
       "      <td>Robbery No Firearm</td>\n",
       "    </tr>\n",
       "    <tr>\n",
       "      <th>18</th>\n",
       "      <td>1</td>\n",
       "      <td>19</td>\n",
       "      <td>20</td>\n",
       "      <td>19</td>\n",
       "      <td>Theft from Vehicle</td>\n",
       "    </tr>\n",
       "    <tr>\n",
       "      <th>19</th>\n",
       "      <td>1</td>\n",
       "      <td>20</td>\n",
       "      <td>18</td>\n",
       "      <td>20</td>\n",
       "      <td>Thefts</td>\n",
       "    </tr>\n",
       "    <tr>\n",
       "      <th>20</th>\n",
       "      <td>1</td>\n",
       "      <td>21</td>\n",
       "      <td>1</td>\n",
       "      <td>21</td>\n",
       "      <td>Vagrancy/Loitering</td>\n",
       "    </tr>\n",
       "    <tr>\n",
       "      <th>21</th>\n",
       "      <td>1</td>\n",
       "      <td>22</td>\n",
       "      <td>23</td>\n",
       "      <td>22</td>\n",
       "      <td>Vandalism/Criminal Mischief</td>\n",
       "    </tr>\n",
       "    <tr>\n",
       "      <th>22</th>\n",
       "      <td>1</td>\n",
       "      <td>23</td>\n",
       "      <td>2</td>\n",
       "      <td>23</td>\n",
       "      <td>Weapon Violations</td>\n",
       "    </tr>\n",
       "  </tbody>\n",
       "</table>\n",
       "</div>"
      ],
      "text/plain": [
       "    Join_ID  OBJECTID  Point_Count  objectid_1  \\\n",
       "0         1         1            2           1   \n",
       "1         1         2            6           2   \n",
       "2         1         3           42           3   \n",
       "3         1         4            1           4   \n",
       "4         1         5            3           5   \n",
       "5         1         6           15           6   \n",
       "6         1         7            5           7   \n",
       "7         1         8           10           8   \n",
       "8         1         9            2           9   \n",
       "9         1        10           10          10   \n",
       "10        1        11            5          11   \n",
       "11        1        12            3          12   \n",
       "12        1        13           22          13   \n",
       "13        1        14            3          14   \n",
       "14        1        15            1          15   \n",
       "15        1        16           14          16   \n",
       "16        1        17            5          17   \n",
       "17        1        18            4          18   \n",
       "18        1        19           20          19   \n",
       "19        1        20           18          20   \n",
       "20        1        21            1          21   \n",
       "21        1        22           23          22   \n",
       "22        1        23            2          23   \n",
       "\n",
       "                                 text_gener  \n",
       "0                Aggravated Assault Firearm  \n",
       "1             Aggravated Assault No Firearm  \n",
       "2                        All Other Offenses  \n",
       "3                                     Arson  \n",
       "4                  Burglary Non-Residential  \n",
       "5                      Burglary Residential  \n",
       "6                        Disorderly Conduct  \n",
       "7               DRIVING UNDER THE INFLUENCE  \n",
       "8                Forgery and Counterfeiting  \n",
       "9                                     Fraud  \n",
       "10                      Motor Vehicle Theft  \n",
       "11           Narcotic / Drug Law Violations  \n",
       "12                           Other Assaults  \n",
       "13  Other Sex Offenses (Not Commercialized)  \n",
       "14                                     Rape  \n",
       "15           Recovered Stolen Motor Vehicle  \n",
       "16                          Robbery Firearm  \n",
       "17                       Robbery No Firearm  \n",
       "18                       Theft from Vehicle  \n",
       "19                                   Thefts  \n",
       "20                       Vagrancy/Loitering  \n",
       "21              Vandalism/Criminal Mischief  \n",
       "22                        Weapon Violations  "
      ]
     },
     "execution_count": 65,
     "metadata": {},
     "output_type": "execute_result"
    }
   ],
   "source": [
    "# Show query results in data table\n",
    "relatedlayers.sdf"
   ]
  },
  {
   "cell_type": "code",
   "execution_count": 54,
   "metadata": {},
   "outputs": [
    {
     "data": {
      "application/vnd.jupyter.widget-view+json": {
       "model_id": "e200d2954945459db6857ccc98bd9f5d",
       "version_major": 2,
       "version_minor": 0
      },
      "text/plain": [
       "MapView(layout=Layout(height='400px', width='100%'))"
      ]
     },
     "metadata": {},
     "output_type": "display_data"
    },
    {
     "data": {
      "text/html": [
       "<div class=\"map-static-img-preview-05f5352f-95e2-4bcb-a417-3347645041d4\"><img src=\"\"></img></div>"
      ],
      "text/plain": [
       "<IPython.core.display.HTML object>"
      ]
     },
     "metadata": {},
     "output_type": "display_data"
    }
   ],
   "source": [
    "# Create a second map object for clarity\n",
    "map_2 = gis.map(\"New York, NY\")\n",
    "map_2.add_layer(finallayers)\n",
    "map_2"
   ]
  }
 ],
 "metadata": {
  "kernelspec": {
   "display_name": "Python 3",
   "language": "python",
   "name": "python3"
  },
  "language_info": {
   "codemirror_mode": {
    "name": "ipython",
    "version": 3
   },
   "file_extension": ".py",
   "mimetype": "text/x-python",
   "name": "python",
   "nbconvert_exporter": "python",
   "pygments_lexer": "ipython3",
   "version": "3.6.6"
  }
 },
 "nbformat": 4,
 "nbformat_minor": 2
}
