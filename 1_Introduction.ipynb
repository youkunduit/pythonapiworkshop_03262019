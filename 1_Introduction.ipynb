{
 "cells": [
  {
   "cell_type": "markdown",
   "metadata": {},
   "source": [
    "# Python API Workshop\n",
    "\n",
    "### Activity 1: Introduction to the Python API\n",
    "\n",
    "Follow along in the document and rename variables. Use <code>SHIFT</code> + <code>ENTER</code> to execute a cell of Python code or markdown."
   ]
  },
  {
   "cell_type": "markdown",
   "metadata": {
    "collapsed": true
   },
   "source": [
    "# Using The API\n",
    "\n",
    "The GIS object is the most important object when working with the ArcGIS API for Python. The GIS object represents the online GIS you are working with, be it ArcGIS Online or a Portal for ArcGIS. You use the GIS object to consume and publish GIS content and administrators may use it to manage GIS users, groups and datastores. The GIS object also includes a number of tools, including spatial analysis tools, big data analytics tools, raster analytics tools as well as helper services such as geocoding and geometry to help in your workflows."
   ]
  },
  {
   "cell_type": "markdown",
   "metadata": {},
   "source": [
    "# 1. Connect to the GIS\n",
    "\n",
    "To use the GIS object, import <code>GIS</code> from the <code>arcgis.gis module</code>:\n",
    "```python\n",
    "from arcgis.gis import GIS\n",
    "```\n",
    "\n",
    "Alternatively, you can connect to ArcGIS Online (the default GIS used when the URL is not provided) as an anonymous user:\n",
    "```python\n",
    "gis = GIS()\n",
    "```\n",
    "\n",
    "Adding a '?' mark after an object and querying it brings up help for that object in the notebook:\n",
    "```python\n",
    "gis?\n",
    "```\n",
    "\n",
    "---\n",
    "\n",
    "**Directions:** Run the cell below to import <code>GIS</code> from the <code>arcgis.gis module</code>."
   ]
  },
  {
   "cell_type": "code",
   "execution_count": 1,
   "metadata": {},
   "outputs": [],
   "source": [
    "from arcgis.gis import GIS"
   ]
  },
  {
   "cell_type": "markdown",
   "metadata": {},
   "source": [
    "## 2. Enter login information\n",
    "\n",
    "To create the GIS object, we pass in the url and our login credentials:\n",
    "```python\n",
    "gis = GIS(\"https://orgname.arcgis.com\", \"username\", \"password\")\n",
    "```\n",
    "\n",
    "**Note:** The password does not need to be included in the script. If password is not included, the script will prompt you to enter your password. This is useful for sharing code with others.\n",
    "\n",
    "---\n",
    "\n",
    "**Directions:** Enter the appropriate login information in the code below.\n",
    "* Organization: https://localgovne.maps.arcgis.com (or use your own organization URL)\n",
    "* Username: Your provided username\n",
    "* Password: Your provided password"
   ]
  },
  {
   "cell_type": "code",
   "execution_count": 56,
   "metadata": {},
   "outputs": [
    {
     "name": "stdout",
     "output_type": "stream",
     "text": [
      "Enter password: ········\n"
     ]
    }
   ],
   "source": [
    "gis = GIS(\"https://orgname.maps.arcgis.com\", \"username\")"
   ]
  },
  {
   "cell_type": "markdown",
   "metadata": {},
   "source": [
    "**Note:** The notebook provides intellisense and code-completion. Typing a dot after an object and hitting tab brings up a drop-down with its properties and methods:\n",
    "![dropdown showing members of GIS class](http://esri.github.io/arcgis-python-api/notebooks/nbimages/01-dropdown.png)"
   ]
  },
  {
   "cell_type": "markdown",
   "metadata": {},
   "source": [
    "## 3. Use helper objects to view your user profile information\n",
    "\n",
    "The GIS object provides helper objects to manage the GIS resources, i.e. the users, groups, content and datastores. These helper utilities are in the form of helper objects named users, groups, content and datastores respectively. \n",
    "\n",
    "Each such helper object has similar patterns of usage: there are methods to <code>get()</code>, <code>search()</code> and <code>create()</code> the respective resources.\n",
    "\n",
    "The ArcGIS API for Python is integrated with Jupyter Notebook to make it easy to visualize and interact with GIS resources. The user object has a rich representation that can be queried and visualized.\n",
    "\n",
    "---\n",
    "\n",
    "**Directions:** We will set the variable <code>user</code> to get your username. Replace <code>'username'</code> with your username. Then follow the prompts to run the subsequent scripts."
   ]
  },
  {
   "cell_type": "code",
   "execution_count": 57,
   "metadata": {},
   "outputs": [
    {
     "data": {
      "text/html": [
       "<div class=\"9item_container\" style=\"height: auto; overflow: hidden; border: 1px solid #cfcfcf; border-radius: 2px; background: #f6fafa; line-height: 1.21429em; padding: 10px;\">\n",
       "                    <div class=\"item_left\" style=\"width: 210px; float: left;\">\n",
       "                       <a href='https://localgovne.maps.arcgis.com/home/user.html?user=pkundu_localgovne' target='_blank'>\n",
       "                        <img src='https://localgovne.maps.arcgis.com/home/js/arcgisonline/css/images/no-user-thumb.jpg' class=\"itemThumbnail\">\n",
       "                       </a>\n",
       "                    </div>\n",
       "\n",
       "                    <div class=\"item_right\" style=\"float: none; width: auto; overflow: hidden;\">\n",
       "                        <a href='https://localgovne.maps.arcgis.com/home/user.html?user=pkundu_localgovne' target='_blank'><b>Piyali Kundu</b>\n",
       "                        </a>\n",
       "                        <br/><br/><b>Bio</b>: None\n",
       "                        <br/><b>First Name</b>: Piyali\n",
       "                        <br/><b>Last Name</b>: Kundu\n",
       "                        <br/><b>Username</b>: pkundu_localgovne\n",
       "                        <br/><b>Joined</b>: March 15, 2018\n",
       "\n",
       "                    </div>\n",
       "                </div>\n",
       "                "
      ],
      "text/plain": [
       "<User username:pkundu_localgovne>"
      ]
     },
     "execution_count": 57,
     "metadata": {},
     "output_type": "execute_result"
    }
   ],
   "source": [
    "user = gis.users.get('username')\n",
    "user"
   ]
  },
  {
   "cell_type": "markdown",
   "metadata": {},
   "source": [
    "The resources are implemented as Python dictionaries. You can query for the resource properties using the <code>resource['property']</code> notation:"
   ]
  },
  {
   "cell_type": "code",
   "execution_count": 58,
   "metadata": {},
   "outputs": [
    {
     "data": {
      "text/plain": [
       "'Piyali'"
      ]
     },
     "execution_count": 58,
     "metadata": {},
     "output_type": "execute_result"
    }
   ],
   "source": [
    "user['firstName']"
   ]
  },
  {
   "cell_type": "markdown",
   "metadata": {},
   "source": [
    "The properties are also available as properties on the resource object, so you can use the dot notation to access them:"
   ]
  },
  {
   "cell_type": "code",
   "execution_count": 59,
   "metadata": {},
   "outputs": [
    {
     "data": {
      "text/plain": [
       "'Kundu'"
      ]
     },
     "execution_count": 59,
     "metadata": {},
     "output_type": "execute_result"
    }
   ],
   "source": [
    "user.lastName"
   ]
  },
  {
   "cell_type": "markdown",
   "metadata": {},
   "source": [
    "The resources provide methods to update(), delete() and use the object."
   ]
  },
  {
   "cell_type": "markdown",
   "metadata": {},
   "source": [
    "## 4. Visualize information in an interactive map\n",
    "\n",
    "The GIS object includes a map widget that can be used to visualize the content of your GIS as well as see the results of your analysis. Let's bring up a map of New York, NY using the following code layout, replacing <code>\"location\"</code> with a specific location:\n",
    "\n",
    "```python\n",
    "map1 = gis.map(\"location\")```\n",
    "\n",
    "<b>Note:</b> Do not use <code>map</code> as your variable name!\n",
    "\n",
    "---\n",
    "\n",
    "**Directions:** Run the cell below to visualize an interactive map centered on New York City. You can adjust the location to viisualize other locations."
   ]
  },
  {
   "cell_type": "code",
   "execution_count": 60,
   "metadata": {},
   "outputs": [
    {
     "data": {
      "application/vnd.jupyter.widget-view+json": {
       "model_id": "ec34d9277e514b2cb5bdaf19a728b9b0",
       "version_major": 2,
       "version_minor": 0
      },
      "text/plain": [
       "MapView(layout=Layout(height='400px', width='100%'))"
      ]
     },
     "metadata": {},
     "output_type": "display_data"
    },
    {
     "data": {
      "text/html": [
       "<div class=\"map-static-img-preview-4e78e408-ecf6-4ed3-97b2-0a77e4405306\"><img src=\"\"></img></div>"
      ],
      "text/plain": [
       "<IPython.core.display.HTML object>"
      ]
     },
     "metadata": {},
     "output_type": "display_data"
    }
   ],
   "source": [
    "m1 = gis.map(\"New York, NY\")\n",
    "m1"
   ]
  },
  {
   "cell_type": "markdown",
   "metadata": {},
   "source": [
    "We can search for content in our GIS. Let's search for <i>administrative boundaries</i> in New York City. We do that by calling <code>gis.content.search()</code> and for each web map or web layers that gets returned, we can display its rich representation within the notebook:"
   ]
  },
  {
   "cell_type": "code",
   "execution_count": 61,
   "metadata": {
    "scrolled": false
   },
   "outputs": [
    {
     "data": {
      "text/html": [
       "<div class=\"item_container\" style=\"height: auto; overflow: hidden; border: 1px solid #cfcfcf; border-radius: 2px; background: #f6fafa; line-height: 1.21429em; padding: 10px;\">\n",
       "                    <div class=\"item_left\" style=\"width: 210px; float: left;\">\n",
       "                       <a href='https://localgovne.maps.arcgis.com/home/item.html?id=9797b09a97294031acfbd5597c6d0c8a' target='_blank'>\n",
       "                        <img src='http://static.arcgis.com/images/desktopapp.png' class=\"itemThumbnail\">\n",
       "                       </a>\n",
       "                    </div>\n",
       "\n",
       "                    <div class=\"item_right\"     style=\"float: none; width: auto; overflow: hidden;\">\n",
       "                        <a href='https://localgovne.maps.arcgis.com/home/item.html?id=9797b09a97294031acfbd5597c6d0c8a' target='_blank'><b>NYC Neighborhoods</b>\n",
       "                        </a>\n",
       "                        <br/><img src='https://localgovne.maps.arcgis.com/home/js/jsapi/esri/css/images/item_type_icons/featureshosted16.png' style=\"vertical-align:middle;\">Feature Layer Collection by pkundu_localgovne\n",
       "                        <br/>Last Modified: March 20, 2019\n",
       "                        <br/>0 comments, 1 views\n",
       "                    </div>\n",
       "                </div>\n",
       "                "
      ],
      "text/plain": [
       "<Item title:\"NYC Neighborhoods\" type:Feature Layer Collection owner:pkundu_localgovne>"
      ]
     },
     "metadata": {},
     "output_type": "display_data"
    },
    {
     "data": {
      "text/html": [
       "<div class=\"item_container\" style=\"height: auto; overflow: hidden; border: 1px solid #cfcfcf; border-radius: 2px; background: #f6fafa; line-height: 1.21429em; padding: 10px;\">\n",
       "                    <div class=\"item_left\" style=\"width: 210px; float: left;\">\n",
       "                       <a href='https://localgovne.maps.arcgis.com/home/item.html?id=3a2bd57964f7495d9016c6231ac1f3eb' target='_blank'>\n",
       "                        <img src='http://static.arcgis.com/images/desktopapp.png' class=\"itemThumbnail\">\n",
       "                       </a>\n",
       "                    </div>\n",
       "\n",
       "                    <div class=\"item_right\"     style=\"float: none; width: auto; overflow: hidden;\">\n",
       "                        <a href='https://localgovne.maps.arcgis.com/home/item.html?id=3a2bd57964f7495d9016c6231ac1f3eb' target='_blank'><b>311 Service Requests (Jan 2019 to Present)</b>\n",
       "                        </a>\n",
       "                        <br/><img src='https://localgovne.maps.arcgis.com/home/js/jsapi/esri/css/images/item_type_icons/layers16.png' style=\"vertical-align:middle;\">CSV by pkundu_localgovne\n",
       "                        <br/>Last Modified: March 20, 2019\n",
       "                        <br/>0 comments, 2 views\n",
       "                    </div>\n",
       "                </div>\n",
       "                "
      ],
      "text/plain": [
       "<Item title:\"311 Service Requests (Jan 2019 to Present)\" type:CSV owner:pkundu_localgovne>"
      ]
     },
     "metadata": {},
     "output_type": "display_data"
    },
    {
     "data": {
      "text/html": [
       "<div class=\"item_container\" style=\"height: auto; overflow: hidden; border: 1px solid #cfcfcf; border-radius: 2px; background: #f6fafa; line-height: 1.21429em; padding: 10px;\">\n",
       "                    <div class=\"item_left\" style=\"width: 210px; float: left;\">\n",
       "                       <a href='https://localgovne.maps.arcgis.com/home/item.html?id=c460e5b538594c3b8b4f8b8f9f9cecf4' target='_blank'>\n",
       "                        <img src='http://static.arcgis.com/images/desktopapp.png' class=\"itemThumbnail\">\n",
       "                       </a>\n",
       "                    </div>\n",
       "\n",
       "                    <div class=\"item_right\"     style=\"float: none; width: auto; overflow: hidden;\">\n",
       "                        <a href='https://localgovne.maps.arcgis.com/home/item.html?id=c460e5b538594c3b8b4f8b8f9f9cecf4' target='_blank'><b>NYC Neighborhoods</b>\n",
       "                        </a>\n",
       "                        <br/><img src='https://localgovne.maps.arcgis.com/home/js/jsapi/esri/css/images/item_type_icons/datafiles16.png' style=\"vertical-align:middle;\">Shapefile by pkundu_localgovne\n",
       "                        <br/>Last Modified: March 20, 2019\n",
       "                        <br/>0 comments, 1 views\n",
       "                    </div>\n",
       "                </div>\n",
       "                "
      ],
      "text/plain": [
       "<Item title:\"NYC Neighborhoods\" type:Shapefile owner:pkundu_localgovne>"
      ]
     },
     "metadata": {},
     "output_type": "display_data"
    },
    {
     "data": {
      "text/html": [
       "<div class=\"item_container\" style=\"height: auto; overflow: hidden; border: 1px solid #cfcfcf; border-radius: 2px; background: #f6fafa; line-height: 1.21429em; padding: 10px;\">\n",
       "                    <div class=\"item_left\" style=\"width: 210px; float: left;\">\n",
       "                       <a href='https://localgovne.maps.arcgis.com/home/item.html?id=7a7d3808d83940108d40aac9952732a3' target='_blank'>\n",
       "                        <img src='http://static.arcgis.com/images/desktopapp.png' class=\"itemThumbnail\">\n",
       "                       </a>\n",
       "                    </div>\n",
       "\n",
       "                    <div class=\"item_right\"     style=\"float: none; width: auto; overflow: hidden;\">\n",
       "                        <a href='https://localgovne.maps.arcgis.com/home/item.html?id=7a7d3808d83940108d40aac9952732a3' target='_blank'><b>NYC Boroughs</b>\n",
       "                        </a>\n",
       "                        <br/><img src='https://localgovne.maps.arcgis.com/home/js/jsapi/esri/css/images/item_type_icons/datafiles16.png' style=\"vertical-align:middle;\">Shapefile by pkundu_localgovne\n",
       "                        <br/>Last Modified: March 20, 2019\n",
       "                        <br/>0 comments, 1 views\n",
       "                    </div>\n",
       "                </div>\n",
       "                "
      ],
      "text/plain": [
       "<Item title:\"NYC Boroughs\" type:Shapefile owner:pkundu_localgovne>"
      ]
     },
     "metadata": {},
     "output_type": "display_data"
    },
    {
     "data": {
      "text/html": [
       "<div class=\"item_container\" style=\"height: auto; overflow: hidden; border: 1px solid #cfcfcf; border-radius: 2px; background: #f6fafa; line-height: 1.21429em; padding: 10px;\">\n",
       "                    <div class=\"item_left\" style=\"width: 210px; float: left;\">\n",
       "                       <a href='https://localgovne.maps.arcgis.com/home/item.html?id=9aa234974d604201a5e8f13b84f9d221' target='_blank'>\n",
       "                        <img src='data:image/png;base64,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' width='200' height='133' class=\"itemThumbnail\">\n",
       "                       </a>\n",
       "                    </div>\n",
       "\n",
       "                    <div class=\"item_right\"     style=\"float: none; width: auto; overflow: hidden;\">\n",
       "                        <a href='https://localgovne.maps.arcgis.com/home/item.html?id=9aa234974d604201a5e8f13b84f9d221' target='_blank'><b>311 Service Requests (Jan 2019 to Present)</b>\n",
       "                        </a>\n",
       "                        <br/><img src='https://localgovne.maps.arcgis.com/home/js/jsapi/esri/css/images/item_type_icons/featureshosted16.png' style=\"vertical-align:middle;\">Feature Layer Collection by pkundu_localgovne\n",
       "                        <br/>Last Modified: March 20, 2019\n",
       "                        <br/>0 comments, 4 views\n",
       "                    </div>\n",
       "                </div>\n",
       "                "
      ],
      "text/plain": [
       "<Item title:\"311 Service Requests (Jan 2019 to Present)\" type:Feature Layer Collection owner:pkundu_localgovne>"
      ]
     },
     "metadata": {},
     "output_type": "display_data"
    },
    {
     "data": {
      "text/html": [
       "<div class=\"item_container\" style=\"height: auto; overflow: hidden; border: 1px solid #cfcfcf; border-radius: 2px; background: #f6fafa; line-height: 1.21429em; padding: 10px;\">\n",
       "                    <div class=\"item_left\" style=\"width: 210px; float: left;\">\n",
       "                       <a href='https://localgovne.maps.arcgis.com/home/item.html?id=413844cccb674f02a5d3e9b2ea25d54b' target='_blank'>\n",
       "                        <img src='data:image/png;base64,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' width='200' height='133' class=\"itemThumbnail\">\n",
       "                       </a>\n",
       "                    </div>\n",
       "\n",
       "                    <div class=\"item_right\"     style=\"float: none; width: auto; overflow: hidden;\">\n",
       "                        <a href='https://localgovne.maps.arcgis.com/home/item.html?id=413844cccb674f02a5d3e9b2ea25d54b' target='_blank'><b>Open Space (Parks)</b>\n",
       "                        </a>\n",
       "                        <br/><img src='https://localgovne.maps.arcgis.com/home/js/jsapi/esri/css/images/item_type_icons/featureshosted16.png' style=\"vertical-align:middle;\">Feature Layer Collection by pkundu_localgovne\n",
       "                        <br/>Last Modified: March 20, 2019\n",
       "                        <br/>0 comments, 2 views\n",
       "                    </div>\n",
       "                </div>\n",
       "                "
      ],
      "text/plain": [
       "<Item title:\"Open Space (Parks)\" type:Feature Layer Collection owner:pkundu_localgovne>"
      ]
     },
     "metadata": {},
     "output_type": "display_data"
    },
    {
     "data": {
      "text/html": [
       "<div class=\"item_container\" style=\"height: auto; overflow: hidden; border: 1px solid #cfcfcf; border-radius: 2px; background: #f6fafa; line-height: 1.21429em; padding: 10px;\">\n",
       "                    <div class=\"item_left\" style=\"width: 210px; float: left;\">\n",
       "                       <a href='https://localgovne.maps.arcgis.com/home/item.html?id=8692982e4aea486da3a5444559bf64c3' target='_blank'>\n",
       "                        <img src='data:image/png;base64,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' width='200' height='133' class=\"itemThumbnail\">\n",
       "                       </a>\n",
       "                    </div>\n",
       "\n",
       "                    <div class=\"item_right\"     style=\"float: none; width: auto; overflow: hidden;\">\n",
       "                        <a href='https://localgovne.maps.arcgis.com/home/item.html?id=8692982e4aea486da3a5444559bf64c3' target='_blank'><b>NYC Parks Zones</b>\n",
       "                        </a>\n",
       "                        <br/><img src='https://localgovne.maps.arcgis.com/home/js/jsapi/esri/css/images/item_type_icons/featureshosted16.png' style=\"vertical-align:middle;\">Feature Layer Collection by pkundu_localgovne\n",
       "                        <br/>Last Modified: March 20, 2019\n",
       "                        <br/>0 comments, 2 views\n",
       "                    </div>\n",
       "                </div>\n",
       "                "
      ],
      "text/plain": [
       "<Item title:\"NYC Parks Zones\" type:Feature Layer Collection owner:pkundu_localgovne>"
      ]
     },
     "metadata": {},
     "output_type": "display_data"
    },
    {
     "data": {
      "text/html": [
       "<div class=\"item_container\" style=\"height: auto; overflow: hidden; border: 1px solid #cfcfcf; border-radius: 2px; background: #f6fafa; line-height: 1.21429em; padding: 10px;\">\n",
       "                    <div class=\"item_left\" style=\"width: 210px; float: left;\">\n",
       "                       <a href='https://localgovne.maps.arcgis.com/home/item.html?id=d430aa326b57429186a42a8f629e0881' target='_blank'>\n",
       "                        <img src='http://static.arcgis.com/images/desktopapp.png' class=\"itemThumbnail\">\n",
       "                       </a>\n",
       "                    </div>\n",
       "\n",
       "                    <div class=\"item_right\"     style=\"float: none; width: auto; overflow: hidden;\">\n",
       "                        <a href='https://localgovne.maps.arcgis.com/home/item.html?id=d430aa326b57429186a42a8f629e0881' target='_blank'><b>NYC 2010 Census Tracts</b>\n",
       "                        </a>\n",
       "                        <br/><img src='https://localgovne.maps.arcgis.com/home/js/jsapi/esri/css/images/item_type_icons/datafiles16.png' style=\"vertical-align:middle;\">Shapefile by pkundu_localgovne\n",
       "                        <br/>Last Modified: March 20, 2019\n",
       "                        <br/>0 comments, 1 views\n",
       "                    </div>\n",
       "                </div>\n",
       "                "
      ],
      "text/plain": [
       "<Item title:\"NYC 2010 Census Tracts\" type:Shapefile owner:pkundu_localgovne>"
      ]
     },
     "metadata": {},
     "output_type": "display_data"
    },
    {
     "data": {
      "text/html": [
       "<div class=\"item_container\" style=\"height: auto; overflow: hidden; border: 1px solid #cfcfcf; border-radius: 2px; background: #f6fafa; line-height: 1.21429em; padding: 10px;\">\n",
       "                    <div class=\"item_left\" style=\"width: 210px; float: left;\">\n",
       "                       <a href='https://localgovne.maps.arcgis.com/home/item.html?id=fc6822c494ea473c9558ca36d507db9c' target='_blank'>\n",
       "                        <img src='data:image/png;base64,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' width='200' height='133' class=\"itemThumbnail\">\n",
       "                       </a>\n",
       "                    </div>\n",
       "\n",
       "                    <div class=\"item_right\"     style=\"float: none; width: auto; overflow: hidden;\">\n",
       "                        <a href='https://localgovne.maps.arcgis.com/home/item.html?id=fc6822c494ea473c9558ca36d507db9c' target='_blank'><b>NYC Boroughs</b>\n",
       "                        </a>\n",
       "                        <br/><img src='https://localgovne.maps.arcgis.com/home/js/jsapi/esri/css/images/item_type_icons/featureshosted16.png' style=\"vertical-align:middle;\">Feature Layer Collection by pkundu_localgovne\n",
       "                        <br/>Last Modified: March 26, 2019\n",
       "                        <br/>0 comments, 2 views\n",
       "                    </div>\n",
       "                </div>\n",
       "                "
      ],
      "text/plain": [
       "<Item title:\"NYC Boroughs\" type:Feature Layer Collection owner:pkundu_localgovne>"
      ]
     },
     "metadata": {},
     "output_type": "display_data"
    },
    {
     "data": {
      "text/html": [
       "<div class=\"item_container\" style=\"height: auto; overflow: hidden; border: 1px solid #cfcfcf; border-radius: 2px; background: #f6fafa; line-height: 1.21429em; padding: 10px;\">\n",
       "                    <div class=\"item_left\" style=\"width: 210px; float: left;\">\n",
       "                       <a href='https://localgovne.maps.arcgis.com/home/item.html?id=766509130d9842c299cfedb30c57d02b' target='_blank'>\n",
       "                        <img src='http://static.arcgis.com/images/desktopapp.png' class=\"itemThumbnail\">\n",
       "                       </a>\n",
       "                    </div>\n",
       "\n",
       "                    <div class=\"item_right\"     style=\"float: none; width: auto; overflow: hidden;\">\n",
       "                        <a href='https://localgovne.maps.arcgis.com/home/item.html?id=766509130d9842c299cfedb30c57d02b' target='_blank'><b>Open Space (Parks)</b>\n",
       "                        </a>\n",
       "                        <br/><img src='https://localgovne.maps.arcgis.com/home/js/jsapi/esri/css/images/item_type_icons/datafiles16.png' style=\"vertical-align:middle;\">Shapefile by pkundu_localgovne\n",
       "                        <br/>Last Modified: March 20, 2019\n",
       "                        <br/>0 comments, 1 views\n",
       "                    </div>\n",
       "                </div>\n",
       "                "
      ],
      "text/plain": [
       "<Item title:\"Open Space (Parks)\" type:Shapefile owner:pkundu_localgovne>"
      ]
     },
     "metadata": {},
     "output_type": "display_data"
    }
   ],
   "source": [
    "from IPython.display import display\n",
    "\n",
    "items = gis.content.search('New York City')\n",
    "for item in items:\n",
    "    display(item)"
   ]
  },
  {
   "cell_type": "markdown",
   "metadata": {},
   "source": [
    "We can add then add the returned web layers to our map. To add the ‘New York City Neighborhoods’ layer returned above, we call <code>map.add_layer()</code> and pass in the corresponding item. This adds the layer to the map widget and redisplays the map in a new cell below.\n",
    "\n",
    "**Note:** Indexes start at <code>0</code>."
   ]
  },
  {
   "cell_type": "code",
   "execution_count": 62,
   "metadata": {},
   "outputs": [
    {
     "data": {
      "application/vnd.jupyter.widget-view+json": {
       "model_id": "ec34d9277e514b2cb5bdaf19a728b9b0",
       "version_major": 2,
       "version_minor": 0
      },
      "text/plain": [
       "MapView(jupyter_target='notebook', layout=Layout(height='400px', width='100%'), ready=True, zoom=8.0)"
      ]
     },
     "metadata": {},
     "output_type": "display_data"
    },
    {
     "data": {
      "text/html": [
       "<div class=\"map-static-img-preview-4e78e408-ecf6-4ed3-97b2-0a77e4405306\"><img src=\"\"></img></div>"
      ],
      "text/plain": [
       "<IPython.core.display.HTML object>"
      ]
     },
     "metadata": {},
     "output_type": "display_data"
    }
   ],
   "source": [
    "m1.add_layer(items[0])\n",
    "m1"
   ]
  },
  {
   "cell_type": "markdown",
   "metadata": {},
   "source": [
    "You can continue to add different layers to the map based on their indexes in the list."
   ]
  },
  {
   "cell_type": "markdown",
   "metadata": {},
   "source": [
    "## 5. Work with Spatially Enabled Data Frames\n",
    "The [`Spatially Enabled DataFrame`](https://esri.github.io/arcgis-python-api/apidoc/html/arcgis.features.toc.html#spatialdataframe) (SEDF) creates a <i>simple, intutive, <b>in-memory</b></i> object that can easily read and write geospatial data (i.e., geometric and attribute data). \n",
    "\n",
    "<blockquote>\n",
    "    New at version 1.5, the Spatially Enabled DataFrame is an evolution of the <code>SpatialDataFrame</code> object that you may be familiar with. While the <code>SDF</code> object is still avialable for use, the team has stopped active development of it and is promoting the use of this new Spatially Enabled DataFrame pattern. The SEDF provides you better memory management, ability to handle larger datasets and is the pattern that Pandas advocates as the path forward.</blockquote>\n",
    "\n",
    "The Spatially Enabled DataFrame inserts a custom namespace called `spatial` into the popular [Pandas](https://pandas.pydata.org/) [DataFrame](http://pandas.pydata.org/pandas-docs/stable/dsintro.html#dataframe) structure to give it spatial abilities. This allows you to use intutive, pandorable operations on both the attribute and spatial columns. Thus, the SEDF is based on data structures inherently suited to data analysis, with natural operations for the filtering and inspecting of subsets of values which are fundamental to statistical and geographic manipulations.\n",
    "\n",
    "The dataframe reads from many **sources**, including shapefiles, [Pandas](https://pandas.pydata.org/) [DataFrames](http://pandas.pydata.org/pandas-docs/stable/dsintro.html#dataframe), feature classes, GeoJSON, and Feature Layers.\n",
    "\n",
    "---\n",
    "\n",
    "<b>Directions:</b> For our next activity, lets start by creating a new map with the dark gray vector basemap."
   ]
  },
  {
   "cell_type": "code",
   "execution_count": 63,
   "metadata": {},
   "outputs": [
    {
     "data": {
      "application/vnd.jupyter.widget-view+json": {
       "model_id": "9d200ff27c144bfb8e1557b047dc3a3a",
       "version_major": 2,
       "version_minor": 0
      },
      "text/plain": [
       "MapView(layout=Layout(height='400px', width='100%'))"
      ]
     },
     "metadata": {},
     "output_type": "display_data"
    },
    {
     "data": {
      "text/html": [
       "<div class=\"map-static-img-preview-52a17f30-60e1-471a-9de5-563600c64d31\"><img src=\"\"></img></div>"
      ],
      "text/plain": [
       "<IPython.core.display.HTML object>"
      ]
     },
     "metadata": {},
     "output_type": "display_data"
    }
   ],
   "source": [
    "m2 = gis.map(\"New York, NY\")\n",
    "m2.basemap = 'dark-gray-vector'\n",
    "m2"
   ]
  },
  {
   "cell_type": "markdown",
   "metadata": {},
   "source": [
    "We will search for an  item in the Organizaiton (in this case, a layer with various demographics information for NYC boroughs) and add it to the map. We use <code>gis.content.get()</code> to retrieve an item from the organizaiton by its item ID. Next, we obtain the first feature layer from the item with <code> item.layers[0]</code>"
   ]
  },
  {
   "cell_type": "code",
   "execution_count": 64,
   "metadata": {},
   "outputs": [],
   "source": [
    "item = gis.content.get(\"13b0a0d02a434116b3cd98ad4e0c70f8\")\n",
    "flayer = item.layers[0]\n",
    "m2.add_layer(flayer)"
   ]
  },
  {
   "cell_type": "markdown",
   "metadata": {},
   "source": [
    "Finally, we will import the Pandas and ArcGIS libraries, use <code>from_layer</code> static method in the 'spatial' namespace on the Pandas' DataFrame and view the first 5 records in the layer with <code>sdf.head()</code>."
   ]
  },
  {
   "cell_type": "code",
   "execution_count": 65,
   "metadata": {},
   "outputs": [
    {
     "data": {
      "text/html": [
       "<div>\n",
       "<style scoped>\n",
       "    .dataframe tbody tr th:only-of-type {\n",
       "        vertical-align: middle;\n",
       "    }\n",
       "\n",
       "    .dataframe tbody tr th {\n",
       "        vertical-align: top;\n",
       "    }\n",
       "\n",
       "    .dataframe thead th {\n",
       "        text-align: right;\n",
       "    }\n",
       "</style>\n",
       "<table border=\"1\" class=\"dataframe\">\n",
       "  <thead>\n",
       "    <tr style=\"text-align: right;\">\n",
       "      <th></th>\n",
       "      <th>ACSPOVINDX</th>\n",
       "      <th>ENRICH_FID</th>\n",
       "      <th>HasData</th>\n",
       "      <th>ID</th>\n",
       "      <th>OBJECTID</th>\n",
       "      <th>POPGRWCYFY</th>\n",
       "      <th>SENIORS_CY</th>\n",
       "      <th>SHAPE</th>\n",
       "      <th>Shape__Area</th>\n",
       "      <th>Shape__Length</th>\n",
       "      <th>TOTPOP_CY</th>\n",
       "      <th>TOTPOP_FY</th>\n",
       "      <th>aggregationMethod</th>\n",
       "      <th>apportionmentConfidence</th>\n",
       "      <th>boro_code</th>\n",
       "      <th>boro_name</th>\n",
       "      <th>populationToPolygonSizeRating</th>\n",
       "      <th>shape_leng</th>\n",
       "      <th>sourceCountry</th>\n",
       "    </tr>\n",
       "  </thead>\n",
       "  <tbody>\n",
       "    <tr>\n",
       "      <th>0</th>\n",
       "      <td>102.1</td>\n",
       "      <td>1</td>\n",
       "      <td>1</td>\n",
       "      <td>0</td>\n",
       "      <td>1</td>\n",
       "      <td>0.48</td>\n",
       "      <td>78960</td>\n",
       "      <td>{\"rings\": [[[-8246794.1978, 4960600.6729], [-8...</td>\n",
       "      <td>2.618035e+08</td>\n",
       "      <td>132710.507374</td>\n",
       "      <td>484443</td>\n",
       "      <td>496106</td>\n",
       "      <td>BlockApportionment:US.BlockGroups</td>\n",
       "      <td>2.576</td>\n",
       "      <td>5</td>\n",
       "      <td>Staten Island</td>\n",
       "      <td>2.191</td>\n",
       "      <td>330470.010332</td>\n",
       "      <td>US</td>\n",
       "    </tr>\n",
       "    <tr>\n",
       "      <th>1</th>\n",
       "      <td>116.1</td>\n",
       "      <td>2</td>\n",
       "      <td>1</td>\n",
       "      <td>0</td>\n",
       "      <td>2</td>\n",
       "      <td>0.52</td>\n",
       "      <td>266127</td>\n",
       "      <td>{\"rings\": [[[-8229449.8241, 4994307.5828], [-8...</td>\n",
       "      <td>1.032201e+08</td>\n",
       "      <td>144706.117746</td>\n",
       "      <td>1660590</td>\n",
       "      <td>1703864</td>\n",
       "      <td>BlockApportionment:US.BlockGroups</td>\n",
       "      <td>2.576</td>\n",
       "      <td>1</td>\n",
       "      <td>Manhattan</td>\n",
       "      <td>2.191</td>\n",
       "      <td>359299.095385</td>\n",
       "      <td>US</td>\n",
       "    </tr>\n",
       "    <tr>\n",
       "      <th>2</th>\n",
       "      <td>223.5</td>\n",
       "      <td>3</td>\n",
       "      <td>1</td>\n",
       "      <td>0</td>\n",
       "      <td>3</td>\n",
       "      <td>0.68</td>\n",
       "      <td>186443</td>\n",
       "      <td>{\"rings\": [[[-8223499.022, 4998256.9376], [-82...</td>\n",
       "      <td>1.929191e+08</td>\n",
       "      <td>187152.743886</td>\n",
       "      <td>1471316</td>\n",
       "      <td>1522018</td>\n",
       "      <td>BlockApportionment:US.BlockGroups</td>\n",
       "      <td>2.576</td>\n",
       "      <td>2</td>\n",
       "      <td>Bronx</td>\n",
       "      <td>2.191</td>\n",
       "      <td>464223.533367</td>\n",
       "      <td>US</td>\n",
       "    </tr>\n",
       "    <tr>\n",
       "      <th>3</th>\n",
       "      <td>161.3</td>\n",
       "      <td>4</td>\n",
       "      <td>1</td>\n",
       "      <td>0</td>\n",
       "      <td>4</td>\n",
       "      <td>0.78</td>\n",
       "      <td>370181</td>\n",
       "      <td>{\"rings\": [[[-8232565.655, 4973936.9751], [-82...</td>\n",
       "      <td>3.129690e+08</td>\n",
       "      <td>297782.623773</td>\n",
       "      <td>2691350</td>\n",
       "      <td>2798271</td>\n",
       "      <td>BlockApportionment:US.BlockGroups</td>\n",
       "      <td>2.576</td>\n",
       "      <td>3</td>\n",
       "      <td>Brooklyn</td>\n",
       "      <td>2.191</td>\n",
       "      <td>741074.466597</td>\n",
       "      <td>US</td>\n",
       "    </tr>\n",
       "    <tr>\n",
       "      <th>4</th>\n",
       "      <td>107.2</td>\n",
       "      <td>5</td>\n",
       "      <td>1</td>\n",
       "      <td>0</td>\n",
       "      <td>5</td>\n",
       "      <td>0.62</td>\n",
       "      <td>365494</td>\n",
       "      <td>{\"rings\": [[[-8217660.381, 4983035.0585], [-82...</td>\n",
       "      <td>4.928011e+08</td>\n",
       "      <td>360364.373960</td>\n",
       "      <td>2370829</td>\n",
       "      <td>2445605</td>\n",
       "      <td>BlockApportionment:US.BlockGroups</td>\n",
       "      <td>2.576</td>\n",
       "      <td>4</td>\n",
       "      <td>Queens</td>\n",
       "      <td>2.191</td>\n",
       "      <td>896310.510913</td>\n",
       "      <td>US</td>\n",
       "    </tr>\n",
       "  </tbody>\n",
       "</table>\n",
       "</div>"
      ],
      "text/plain": [
       "   ACSPOVINDX  ENRICH_FID  HasData ID  OBJECTID  POPGRWCYFY  SENIORS_CY  \\\n",
       "0       102.1           1        1  0         1        0.48       78960   \n",
       "1       116.1           2        1  0         2        0.52      266127   \n",
       "2       223.5           3        1  0         3        0.68      186443   \n",
       "3       161.3           4        1  0         4        0.78      370181   \n",
       "4       107.2           5        1  0         5        0.62      365494   \n",
       "\n",
       "                                               SHAPE   Shape__Area  \\\n",
       "0  {\"rings\": [[[-8246794.1978, 4960600.6729], [-8...  2.618035e+08   \n",
       "1  {\"rings\": [[[-8229449.8241, 4994307.5828], [-8...  1.032201e+08   \n",
       "2  {\"rings\": [[[-8223499.022, 4998256.9376], [-82...  1.929191e+08   \n",
       "3  {\"rings\": [[[-8232565.655, 4973936.9751], [-82...  3.129690e+08   \n",
       "4  {\"rings\": [[[-8217660.381, 4983035.0585], [-82...  4.928011e+08   \n",
       "\n",
       "   Shape__Length  TOTPOP_CY  TOTPOP_FY                  aggregationMethod  \\\n",
       "0  132710.507374     484443     496106  BlockApportionment:US.BlockGroups   \n",
       "1  144706.117746    1660590    1703864  BlockApportionment:US.BlockGroups   \n",
       "2  187152.743886    1471316    1522018  BlockApportionment:US.BlockGroups   \n",
       "3  297782.623773    2691350    2798271  BlockApportionment:US.BlockGroups   \n",
       "4  360364.373960    2370829    2445605  BlockApportionment:US.BlockGroups   \n",
       "\n",
       "   apportionmentConfidence  boro_code      boro_name  \\\n",
       "0                    2.576          5  Staten Island   \n",
       "1                    2.576          1      Manhattan   \n",
       "2                    2.576          2          Bronx   \n",
       "3                    2.576          3       Brooklyn   \n",
       "4                    2.576          4         Queens   \n",
       "\n",
       "   populationToPolygonSizeRating     shape_leng sourceCountry  \n",
       "0                          2.191  330470.010332            US  \n",
       "1                          2.191  359299.095385            US  \n",
       "2                          2.191  464223.533367            US  \n",
       "3                          2.191  741074.466597            US  \n",
       "4                          2.191  896310.510913            US  "
      ]
     },
     "execution_count": 65,
     "metadata": {},
     "output_type": "execute_result"
    }
   ],
   "source": [
    "# Import pandas and ArcGIS libraries\n",
    "import pandas as pd\n",
    "from arcgis.features import GeoAccessor, GeoSeriesAccessor\n",
    "\n",
    "# create a Spatially Enabled DataFrame object\n",
    "sdf = pd.DataFrame.spatial.from_layer(flayer)\n",
    "sdf.head()"
   ]
  },
  {
   "cell_type": "markdown",
   "metadata": {},
   "source": [
    "We can continue to view field information of the newly created spatially-enabled data frame."
   ]
  },
  {
   "cell_type": "code",
   "execution_count": 66,
   "metadata": {},
   "outputs": [
    {
     "name": "stdout",
     "output_type": "stream",
     "text": [
      "<class 'pandas.core.frame.DataFrame'>\n",
      "RangeIndex: 5 entries, 0 to 4\n",
      "Data columns (total 19 columns):\n",
      "ACSPOVINDX                       5 non-null float64\n",
      "ENRICH_FID                       5 non-null int64\n",
      "HasData                          5 non-null int64\n",
      "ID                               5 non-null object\n",
      "OBJECTID                         5 non-null int64\n",
      "POPGRWCYFY                       5 non-null float64\n",
      "SENIORS_CY                       5 non-null int64\n",
      "SHAPE                            5 non-null geometry\n",
      "Shape__Area                      5 non-null float64\n",
      "Shape__Length                    5 non-null float64\n",
      "TOTPOP_CY                        5 non-null int64\n",
      "TOTPOP_FY                        5 non-null int64\n",
      "aggregationMethod                5 non-null object\n",
      "apportionmentConfidence          5 non-null float64\n",
      "boro_code                        5 non-null int64\n",
      "boro_name                        5 non-null object\n",
      "populationToPolygonSizeRating    5 non-null float64\n",
      "shape_leng                       5 non-null float64\n",
      "sourceCountry                    5 non-null object\n",
      "dtypes: float64(7), geometry(1), int64(7), object(4)\n",
      "memory usage: 720.0+ bytes\n"
     ]
    }
   ],
   "source": [
    "# View \n",
    "sdf.info()"
   ]
  },
  {
   "cell_type": "markdown",
   "metadata": {},
   "source": [
    "Finally, we can plot information this spatially-enabled data frame on a map using class breaks renderer. Below, we will plot the current year senior population using the field <code>'SENIORS_CY'</code> field."
   ]
  },
  {
   "cell_type": "code",
   "execution_count": 67,
   "metadata": {
    "scrolled": true
   },
   "outputs": [
    {
     "data": {
      "text/plain": [
       "True"
      ]
     },
     "execution_count": 67,
     "metadata": {},
     "output_type": "execute_result"
    }
   ],
   "source": [
    "sdf.spatial.plot(map_widget = m1,\n",
    "                renderer_type='c',  # for class breaks renderer\n",
    "                method='esriClassifyNaturalBreaks',  # classification algorithm\n",
    "                class_count=5,  # choose the number of classes\n",
    "                col='SENIORS_CY',  # column to get unique values from\n",
    "                cmap='prism',  # color map to pick colors from for each class\n",
    "               )"
   ]
  },
  {
   "cell_type": "code",
   "execution_count": 68,
   "metadata": {},
   "outputs": [
    {
     "data": {
      "application/vnd.jupyter.widget-view+json": {
       "model_id": "9d200ff27c144bfb8e1557b047dc3a3a",
       "version_major": 2,
       "version_minor": 0
      },
      "text/plain": [
       "MapView(jupyter_target='notebook', layout=Layout(height='400px', width='100%'), ready=True)"
      ]
     },
     "metadata": {},
     "output_type": "display_data"
    },
    {
     "data": {
      "text/html": [
       "<div class=\"map-static-img-preview-52a17f30-60e1-471a-9de5-563600c64d31\"><img src=\"\"></img></div>"
      ],
      "text/plain": [
       "<IPython.core.display.HTML object>"
      ]
     },
     "metadata": {},
     "output_type": "display_data"
    }
   ],
   "source": [
    "m1"
   ]
  }
 ],
 "metadata": {
  "kernelspec": {
   "display_name": "Python 3",
   "language": "python",
   "name": "python3"
  },
  "language_info": {
   "codemirror_mode": {
    "name": "ipython",
    "version": 3
   },
   "file_extension": ".py",
   "mimetype": "text/x-python",
   "name": "python",
   "nbconvert_exporter": "python",
   "pygments_lexer": "ipython3",
   "version": "3.6.6"
  }
 },
 "nbformat": 4,
 "nbformat_minor": 1
}
