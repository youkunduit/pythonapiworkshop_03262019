{
 "cells": [
  {
   "cell_type": "markdown",
   "metadata": {},
   "source": [
    "# Aggregate Points by Polygon\n",
    "## Adapt the Code Sample: Philadelphia Crime Incidents & Districts\n",
    "\n",
    "The below example code aggregates crime incidents in police districts in Philadelphia, PA. \n",
    "\n",
    "**Directions:** Using all the skills you learned during the prior exercises, adapt the below code to summarize a point data layer for NYC (e.g., 311) within a polygon boundary layer (e.g., boroughs, neighborhoods, etc.).\n",
    "\n",
    "**Note:** Ensure that you are reviewing and replacing ALL the inputs for YOUR portal, username, and location. This includes (but is not limited to):\n",
    "* Portal URL\n",
    "* Username and password\n",
    "* Search parameters\n",
    "* Feature services and layers\n",
    "* Input/output names\n",
    "* Spatial references\n",
    "* Mapped locations\n",
    "\n",
    "**Resources:**\n",
    "* [Python API Documentation](\"https://developers.arcgis.com/python/\")"
   ]
  },
  {
   "cell_type": "code",
   "execution_count": 10,
   "metadata": {},
   "outputs": [],
   "source": [
    "# import libraries\n",
    "from arcgis.gis import *\n",
    "import getpass"
   ]
  },
  {
   "cell_type": "code",
   "execution_count": 11,
   "metadata": {},
   "outputs": [
    {
     "name": "stdout",
     "output_type": "stream",
     "text": [
      "········\n"
     ]
    }
   ],
   "source": [
    "# Utilize getpass for password management in Jupyter notebooks\n",
    "password = getpass.getpass()"
   ]
  },
  {
   "cell_type": "code",
   "execution_count": null,
   "metadata": {},
   "outputs": [],
   "source": [
    "# Connect to GIS\n",
    "gis = GIS(\"https://www.arcgis.com\",'nycpython1')\n",
    "gis"
   ]
  },
  {
   "cell_type": "code",
   "execution_count": 13,
   "metadata": {},
   "outputs": [
    {
     "name": "stdout",
     "output_type": "stream",
     "text": [
      "<Item title:\"Police_Boundaries\" type:Feature Layer Collection owner:abrown>\n"
     ]
    }
   ],
   "source": [
    "# You can find and \"get\" content by itemID, service url, or searching\n",
    "# Search for Police Boundaries District, use separate query variable\n",
    "query = \"title:POLICE_Boundaries\"\n",
    "boundaries_s = gis.content.search(query=query, item_type=\"Feature Service\")\n",
    "boundaries = boundaries_s[0]\n",
    "print(boundaries)"
   ]
  },
  {
   "cell_type": "code",
   "execution_count": 14,
   "metadata": {},
   "outputs": [
    {
     "name": "stdout",
     "output_type": "stream",
     "text": [
      "<Item title:\"PhillyCrime\" type:Feature Layer Collection owner:abrown>\n"
     ]
    }
   ],
   "source": [
    "# Search for Philadelphia Redacted Crime, put query directly in search\n",
    "crime_s = gis.content.search(\"title:PhillyCrime\", item_type=\"Feature Service\")\n",
    "incidents = crime_s[0]\n",
    "print(incidents)"
   ]
  },
  {
   "cell_type": "code",
   "execution_count": 15,
   "metadata": {},
   "outputs": [],
   "source": [
    "# Import summarize data from features module, summarize_data & analysis modules\n",
    "from arcgis.features import summarize_data, analysis"
   ]
  },
  {
   "cell_type": "markdown",
   "metadata": {},
   "source": [
    "# Two Options, summarize data or analysis modules"
   ]
  },
  {
   "cell_type": "code",
   "execution_count": 18,
   "metadata": {},
   "outputs": [],
   "source": [
    "# If you remove the output_name variable in the aggregate_points call, it will create a temporary feature collection\n",
    "# Write aggregated layer to new feature service\n",
    "# OPTION 1\n",
    "crime_summary = summarize_data.aggregate_points(point_layer = incidents, polygon_layer = boundaries, \n",
    "                                                keep_boundaries_with_no_points=False, output_name = 'crime_aggregation', \n",
    "                                                context={\"wkid\" : 2272})\n",
    "\n",
    "\n",
    "# OPTION 2\n",
    "# crime_summary2 = analysis.aggregate_points(point_layer = incidents,\n",
    "#                                           polygon_layer = boundaries,\n",
    "#                                           keep_boundaries_with_no_points=False,\n",
    "#                                           output_name = 'crime_aggregationv2',\n",
    "#                                           context={\"wkid\" : 2272})"
   ]
  },
  {
   "cell_type": "code",
   "execution_count": 19,
   "metadata": {},
   "outputs": [
    {
     "name": "stdout",
     "output_type": "stream",
     "text": [
      "<Item title:\"crime_aggregation\" type:Feature Layer Collection owner:abrown>\n"
     ]
    }
   ],
   "source": [
    "crime_agg = gis.content.search(\"title:crime_aggregation\", item_type=\"Feature Service\")\n",
    "for item in crime_agg:\n",
    "    print(item)\n",
    "# Return list of all items returned"
   ]
  },
  {
   "cell_type": "code",
   "execution_count": 20,
   "metadata": {},
   "outputs": [],
   "source": [
    "# Output of this analysis is second entry, so set as item 1 in list.\n",
    "crime_data = crime_agg[0]\n",
    "crime_layers = crime_data.layers\n",
    "crime_output = crime_layers[0]\n"
   ]
  },
  {
   "cell_type": "code",
   "execution_count": 21,
   "metadata": {},
   "outputs": [],
   "source": [
    "# Return only selected fields\n",
    "# If AGOL, out_fields='Point_count, DISTRICT_'\n",
    "query_result1 = crime_output.query(where='1=1', out_fields='point_count, district_')"
   ]
  },
  {
   "cell_type": "code",
   "execution_count": 22,
   "metadata": {},
   "outputs": [
    {
     "data": {
      "text/html": [
       "<div>\n",
       "<style scoped>\n",
       "    .dataframe tbody tr th:only-of-type {\n",
       "        vertical-align: middle;\n",
       "    }\n",
       "\n",
       "    .dataframe tbody tr th {\n",
       "        vertical-align: top;\n",
       "    }\n",
       "\n",
       "    .dataframe thead th {\n",
       "        text-align: right;\n",
       "    }\n",
       "</style>\n",
       "<table border=\"1\" class=\"dataframe\">\n",
       "  <thead>\n",
       "    <tr style=\"text-align: right;\">\n",
       "      <th></th>\n",
       "      <th>SHAPE</th>\n",
       "      <th>district_</th>\n",
       "      <th>objectid</th>\n",
       "      <th>point_count</th>\n",
       "    </tr>\n",
       "  </thead>\n",
       "  <tbody>\n",
       "    <tr>\n",
       "      <th>0</th>\n",
       "      <td>{\"rings\": [[[2682834.3199451566, 256493.363249...</td>\n",
       "      <td>16</td>\n",
       "      <td>1</td>\n",
       "      <td>17972</td>\n",
       "    </tr>\n",
       "    <tr>\n",
       "      <th>1</th>\n",
       "      <td>{\"rings\": [[[2692953.2810064107, 232266.624629...</td>\n",
       "      <td>17</td>\n",
       "      <td>2</td>\n",
       "      <td>18666</td>\n",
       "    </tr>\n",
       "    <tr>\n",
       "      <th>2</th>\n",
       "      <td>{\"rings\": [[[2687649.5793434978, 234542.574802...</td>\n",
       "      <td>18</td>\n",
       "      <td>3</td>\n",
       "      <td>26491</td>\n",
       "    </tr>\n",
       "    <tr>\n",
       "      <th>3</th>\n",
       "      <td>{\"rings\": [[[2701755.5855802447, 274818.829223...</td>\n",
       "      <td>35</td>\n",
       "      <td>4</td>\n",
       "      <td>31137</td>\n",
       "    </tr>\n",
       "    <tr>\n",
       "      <th>4</th>\n",
       "      <td>{\"rings\": [[[2688377.131037995, 264902.0108023...</td>\n",
       "      <td>39</td>\n",
       "      <td>5</td>\n",
       "      <td>21291</td>\n",
       "    </tr>\n",
       "    <tr>\n",
       "      <th>5</th>\n",
       "      <td>{\"rings\": [[[2684325.856660247, 227496.3762961...</td>\n",
       "      <td>1</td>\n",
       "      <td>6</td>\n",
       "      <td>12920</td>\n",
       "    </tr>\n",
       "    <tr>\n",
       "      <th>6</th>\n",
       "      <td>{\"rings\": [[[2723075.909737408, 270597.0063020...</td>\n",
       "      <td>2</td>\n",
       "      <td>7</td>\n",
       "      <td>28266</td>\n",
       "    </tr>\n",
       "    <tr>\n",
       "      <th>7</th>\n",
       "      <td>{\"rings\": [[[2701697.918700829, 236570.1432535...</td>\n",
       "      <td>6</td>\n",
       "      <td>17</td>\n",
       "      <td>26512</td>\n",
       "    </tr>\n",
       "    <tr>\n",
       "      <th>8</th>\n",
       "      <td>{\"rings\": [[[2702924.9306824952, 217065.839086...</td>\n",
       "      <td>3</td>\n",
       "      <td>8</td>\n",
       "      <td>31742</td>\n",
       "    </tr>\n",
       "    <tr>\n",
       "      <th>9</th>\n",
       "      <td>{\"rings\": [[[2680083.5665884167, 256304.827537...</td>\n",
       "      <td>19</td>\n",
       "      <td>9</td>\n",
       "      <td>30729</td>\n",
       "    </tr>\n",
       "    <tr>\n",
       "      <th>10</th>\n",
       "      <td>{\"rings\": [[[2686483.90582183, 253430.01078048...</td>\n",
       "      <td>22</td>\n",
       "      <td>10</td>\n",
       "      <td>37811</td>\n",
       "    </tr>\n",
       "    <tr>\n",
       "      <th>11</th>\n",
       "      <td>{\"rings\": [[[2708899.95088467, 259896.65663981...</td>\n",
       "      <td>24</td>\n",
       "      <td>11</td>\n",
       "      <td>37466</td>\n",
       "    </tr>\n",
       "    <tr>\n",
       "      <th>12</th>\n",
       "      <td>{\"rings\": [[[2706960.2953151613, 263453.629512...</td>\n",
       "      <td>25</td>\n",
       "      <td>12</td>\n",
       "      <td>37860</td>\n",
       "    </tr>\n",
       "    <tr>\n",
       "      <th>13</th>\n",
       "      <td>{\"rings\": [[[2703314.091649577, 239453.3933925...</td>\n",
       "      <td>26</td>\n",
       "      <td>13</td>\n",
       "      <td>20519</td>\n",
       "    </tr>\n",
       "    <tr>\n",
       "      <th>14</th>\n",
       "      <td>{\"rings\": [[[2737771.2638768256, 301545.703262...</td>\n",
       "      <td>7</td>\n",
       "      <td>18</td>\n",
       "      <td>11014</td>\n",
       "    </tr>\n",
       "    <tr>\n",
       "      <th>15</th>\n",
       "      <td>{\"rings\": [[[2732370.1555845737, 266043.209635...</td>\n",
       "      <td>15</td>\n",
       "      <td>14</td>\n",
       "      <td>43026</td>\n",
       "    </tr>\n",
       "    <tr>\n",
       "      <th>16</th>\n",
       "      <td>{\"rings\": [[[2674487.164395407, 212760.6515025...</td>\n",
       "      <td>77</td>\n",
       "      <td>15</td>\n",
       "      <td>498</td>\n",
       "    </tr>\n",
       "    <tr>\n",
       "      <th>17</th>\n",
       "      <td>{\"rings\": [[[2681241.8401905, 265760.849307730...</td>\n",
       "      <td>5</td>\n",
       "      <td>16</td>\n",
       "      <td>8460</td>\n",
       "    </tr>\n",
       "    <tr>\n",
       "      <th>18</th>\n",
       "      <td>{\"rings\": [[[2744253.105243832, 298829.9705053...</td>\n",
       "      <td>8</td>\n",
       "      <td>19</td>\n",
       "      <td>18520</td>\n",
       "    </tr>\n",
       "    <tr>\n",
       "      <th>19</th>\n",
       "      <td>{\"rings\": [[[2693482.5926118344, 236493.200494...</td>\n",
       "      <td>9</td>\n",
       "      <td>20</td>\n",
       "      <td>20699</td>\n",
       "    </tr>\n",
       "    <tr>\n",
       "      <th>20</th>\n",
       "      <td>{\"rings\": [[[2677505.0582939982, 234012.063395...</td>\n",
       "      <td>12</td>\n",
       "      <td>21</td>\n",
       "      <td>32922</td>\n",
       "    </tr>\n",
       "    <tr>\n",
       "      <th>21</th>\n",
       "      <td>{\"rings\": [[[2684593.814129576, 280235.9948980...</td>\n",
       "      <td>14</td>\n",
       "      <td>22</td>\n",
       "      <td>29282</td>\n",
       "    </tr>\n",
       "  </tbody>\n",
       "</table>\n",
       "</div>"
      ],
      "text/plain": [
       "                                                SHAPE  district_  objectid  \\\n",
       "0   {\"rings\": [[[2682834.3199451566, 256493.363249...         16         1   \n",
       "1   {\"rings\": [[[2692953.2810064107, 232266.624629...         17         2   \n",
       "2   {\"rings\": [[[2687649.5793434978, 234542.574802...         18         3   \n",
       "3   {\"rings\": [[[2701755.5855802447, 274818.829223...         35         4   \n",
       "4   {\"rings\": [[[2688377.131037995, 264902.0108023...         39         5   \n",
       "5   {\"rings\": [[[2684325.856660247, 227496.3762961...          1         6   \n",
       "6   {\"rings\": [[[2723075.909737408, 270597.0063020...          2         7   \n",
       "7   {\"rings\": [[[2701697.918700829, 236570.1432535...          6        17   \n",
       "8   {\"rings\": [[[2702924.9306824952, 217065.839086...          3         8   \n",
       "9   {\"rings\": [[[2680083.5665884167, 256304.827537...         19         9   \n",
       "10  {\"rings\": [[[2686483.90582183, 253430.01078048...         22        10   \n",
       "11  {\"rings\": [[[2708899.95088467, 259896.65663981...         24        11   \n",
       "12  {\"rings\": [[[2706960.2953151613, 263453.629512...         25        12   \n",
       "13  {\"rings\": [[[2703314.091649577, 239453.3933925...         26        13   \n",
       "14  {\"rings\": [[[2737771.2638768256, 301545.703262...          7        18   \n",
       "15  {\"rings\": [[[2732370.1555845737, 266043.209635...         15        14   \n",
       "16  {\"rings\": [[[2674487.164395407, 212760.6515025...         77        15   \n",
       "17  {\"rings\": [[[2681241.8401905, 265760.849307730...          5        16   \n",
       "18  {\"rings\": [[[2744253.105243832, 298829.9705053...          8        19   \n",
       "19  {\"rings\": [[[2693482.5926118344, 236493.200494...          9        20   \n",
       "20  {\"rings\": [[[2677505.0582939982, 234012.063395...         12        21   \n",
       "21  {\"rings\": [[[2684593.814129576, 280235.9948980...         14        22   \n",
       "\n",
       "    point_count  \n",
       "0         17972  \n",
       "1         18666  \n",
       "2         26491  \n",
       "3         31137  \n",
       "4         21291  \n",
       "5         12920  \n",
       "6         28266  \n",
       "7         26512  \n",
       "8         31742  \n",
       "9         30729  \n",
       "10        37811  \n",
       "11        37466  \n",
       "12        37860  \n",
       "13        20519  \n",
       "14        11014  \n",
       "15        43026  \n",
       "16          498  \n",
       "17         8460  \n",
       "18        18520  \n",
       "19        20699  \n",
       "20        32922  \n",
       "21        29282  "
      ]
     },
     "execution_count": 22,
     "metadata": {},
     "output_type": "execute_result"
    }
   ],
   "source": [
    "# Show query results in data table\n",
    "query_result1\n",
    "query_result1.sdf"
   ]
  },
  {
   "cell_type": "markdown",
   "metadata": {},
   "source": []
  },
  {
   "cell_type": "code",
   "execution_count": 23,
   "metadata": {},
   "outputs": [
    {
     "data": {
      "application/vnd.jupyter.widget-view+json": {
       "model_id": "828c2113f497464ebc5669403d8764ac",
       "version_major": 2,
       "version_minor": 0
      },
      "text/plain": [
       "MapView(layout=Layout(height='400px', width='100%'))"
      ]
     },
     "metadata": {},
     "output_type": "display_data"
    },
    {
     "data": {
      "text/html": [
       "<div class=\"map-static-img-preview-90049f6b-e428-4129-a1da-f6ec92000338\"><img src=\"\"></img></div>"
      ],
      "text/plain": [
       "<IPython.core.display.HTML object>"
      ]
     },
     "metadata": {},
     "output_type": "display_data"
    }
   ],
   "source": [
    "# Create a map object\n",
    "map1 = gis.map(\"Philadelphia, PA\")\n",
    "map1"
   ]
  },
  {
   "cell_type": "code",
   "execution_count": 25,
   "metadata": {},
   "outputs": [],
   "source": [
    "map1.add_layer(query_result1)"
   ]
  }
 ],
 "metadata": {
  "kernelspec": {
   "display_name": "Python 3",
   "language": "python",
   "name": "python3"
  },
  "language_info": {
   "codemirror_mode": {
    "name": "ipython",
    "version": 3
   },
   "file_extension": ".py",
   "mimetype": "text/x-python",
   "name": "python",
   "nbconvert_exporter": "python",
   "pygments_lexer": "ipython3",
   "version": "3.6.6"
  }
 },
 "nbformat": 4,
 "nbformat_minor": 2
}
